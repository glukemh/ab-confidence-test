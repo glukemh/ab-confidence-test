{
 "cells": [
  {
   "cell_type": "code",
   "execution_count": 263,
   "metadata": {},
   "outputs": [],
   "source": [
    "# reading: http://armsnet.info/journals/arms/Vol_3_No_1_June_2015/3.pdf#:~:text=The%20term%20%E2%80%9Cstatistical%20confidence%E2%80%9D%20has%20been%20defined%20clearly,samples%2C%20that%20an%20interval%20will%20capture%20a%20parameter.\n",
    "\n",
    "# c_cont is number of conversions in control sample\n",
    "# c_exp is number of conversions in experiment sample\n",
    "# n_cont is total number of users in control sample\n",
    "# n_exp is total number of users in experiment sample\n",
    "# p_cont is the conversion rate in the control sample (estimated probability of conversions)\n",
    "# p_exp is the conversion rate in the experiment sample (estimated probability of conversions)\n",
    "# p_pool is the estimated probability of conversions in the pooled sample\n",
    "# se_pool is the pooled standard error\n",
    "# d is the estimated difference of p_exp and p_cont\n",
    "# null hypothesis: d ~ Normal(0, se_pool^2) with mean of 0 and standard deviation of se_pool\n",
    "# z_score of 1.96 corresponds to 95% from (-infinity, z_score) (one-tailed)\n",
    "# z_score of 1.65 corresponds to 90% (one-tailed)\n",
    "# z_score of 2.575 corresponds to 99% (one-tailed)\n",
    "\n",
    "# cumulative alpha = 1-(1-Alpha)^k where k is number of experiments (excluding control)\n",
    "\n",
    "from math import pi, sqrt, exp, erf"
   ]
  },
  {
   "cell_type": "code",
   "execution_count": 264,
   "metadata": {},
   "outputs": [
    {
     "data": {
      "text/plain": [
       "[0.9953222650189527, 0.7642375350135178]"
      ]
     },
     "execution_count": 264,
     "metadata": {},
     "output_type": "execute_result"
    }
   ],
   "source": [
    "normal = lambda mu, sd: lambda x: exp(-((x-mu)/sd)**2/2)/(sd*sqrt(2*pi))\n",
    "def erf_implementation(z):\n",
    "    n = 1000000\n",
    "    delta = z/n\n",
    "    sum = 0\n",
    "    for i in range(0, n):\n",
    "        sum += exp(-1*(i*delta)**2)\n",
    "    return 2*sum*delta/sqrt(pi)\n",
    "\n",
    "def z_score_to_percentile_py(z_score):\n",
    "    return (erf(z_score / sqrt(2)) + 1) / 2\n",
    "def z_score_to_percentile(z_score):\n",
    "    return (erf_implementation(z_score / sqrt(2)) + 1) / 2\n",
    "def confidence(pdf, d, mu=0):\n",
    "    n = 1000000\n",
    "    delta = abs(d - mu)/n\n",
    "    sum = 0\n",
    "    for i in range(1, n+1):\n",
    "        sum += pdf(mu+i*delta)\n",
    "    return 2*sum*delta\n",
    "score = 0.72\n",
    "[erf(2), z_score_to_percentile(score)]"
   ]
  },
  {
   "cell_type": "code",
   "execution_count": 265,
   "metadata": {},
   "outputs": [],
   "source": [
    "a_conv = 200\n",
    "a_vis = 1000\n",
    "b_conv = 236\n",
    "b_vis = 1000\t\n",
    "# a_conv = 200\n",
    "# a_vis = 1000\n",
    "# b_conv = 200\n",
    "# b_vis = 1000\t\n",
    "z_score_confidence_threshold = 1.96\n",
    "confidence_threshold = 0.95"
   ]
  },
  {
   "cell_type": "code",
   "execution_count": 266,
   "metadata": {},
   "outputs": [
    {
     "data": {
      "text/plain": [
       "[0.2, 0.236]"
      ]
     },
     "execution_count": 266,
     "metadata": {},
     "output_type": "execute_result"
    }
   ],
   "source": [
    "a_conv_rate = a_conv/a_vis\n",
    "b_conv_rate = b_conv/b_vis\n",
    "[a_conv_rate, b_conv_rate] # conversion rates"
   ]
  },
  {
   "cell_type": "code",
   "execution_count": 267,
   "metadata": {},
   "outputs": [
    {
     "data": {
      "text/plain": [
       "[0.01264911064067352, 0.013427732496590778]"
      ]
     },
     "execution_count": 267,
     "metadata": {},
     "output_type": "execute_result"
    }
   ],
   "source": [
    "a_standard_error = sqrt(a_conv_rate*(1-a_conv_rate)/a_vis)\n",
    "b_standard_error = sqrt(b_conv_rate*(1-b_conv_rate)/b_vis)\n",
    "[a_standard_error, b_standard_error]"
   ]
  },
  {
   "cell_type": "code",
   "execution_count": 268,
   "metadata": {},
   "outputs": [],
   "source": [
    "standard_error_diff = sqrt(a_standard_error**2 + b_standard_error**2)"
   ]
  },
  {
   "cell_type": "code",
   "execution_count": 269,
   "metadata": {},
   "outputs": [
    {
     "data": {
      "text/plain": [
       "1.951501879161692"
      ]
     },
     "execution_count": 269,
     "metadata": {},
     "output_type": "execute_result"
    }
   ],
   "source": [
    "z_score = (b_conv_rate - a_conv_rate) / standard_error_diff\n",
    "z_score # z-score"
   ]
  },
  {
   "cell_type": "code",
   "execution_count": 270,
   "metadata": {},
   "outputs": [
    {
     "data": {
      "text/plain": [
       "[(0.1753152368150015, 0.22468476318499853),\n",
       " (0.20979575480002258, 0.2622042451999774)]"
      ]
     },
     "execution_count": 270,
     "metadata": {},
     "output_type": "execute_result"
    }
   ],
   "source": [
    "a_conf_int = (a_conv_rate - z_score * a_standard_error, a_conv_rate + z_score * a_standard_error)\n",
    "b_conf_int = (b_conv_rate - z_score * b_standard_error, b_conv_rate + z_score * b_standard_error)\n",
    "[a_conf_int, b_conf_int] # confidence intervals"
   ]
  },
  {
   "cell_type": "code",
   "execution_count": 271,
   "metadata": {},
   "outputs": [
    {
     "data": {
      "text/plain": [
       "0.17999999999999988"
      ]
     },
     "execution_count": 271,
     "metadata": {},
     "output_type": "execute_result"
    }
   ],
   "source": [
    "relative_lift = (b_conv_rate - a_conv_rate) / a_conv_rate\n",
    "relative_lift # improvement in conversion rate"
   ]
  },
  {
   "cell_type": "code",
   "execution_count": 272,
   "metadata": {},
   "outputs": [
    {
     "data": {
      "text/plain": [
       "False"
      ]
     },
     "execution_count": 272,
     "metadata": {},
     "output_type": "execute_result"
    }
   ],
   "source": [
    "abs_z_score = abs(z_score)\n",
    "confident = abs_z_score > z_score_confidence_threshold\n",
    "confident # Reject null hypothesis?"
   ]
  },
  {
   "cell_type": "code",
   "execution_count": 273,
   "metadata": {},
   "outputs": [
    {
     "data": {
      "text/plain": [
       "[0.9745016448449544, 0.05099671031009123, 0.9490032896899088]"
      ]
     },
     "execution_count": 273,
     "metadata": {},
     "output_type": "execute_result"
    }
   ],
   "source": [
    "percentile = z_score_to_percentile(abs_z_score)\n",
    "p = 2 * (1 - percentile)\n",
    "confidence = 1 - p\n",
    "# Confidence as percentile for two-tailed test\n",
    "[percentile, p, confidence]"
   ]
  },
  {
   "cell_type": "code",
   "execution_count": null,
   "metadata": {},
   "outputs": [],
   "source": []
  }
 ],
 "metadata": {
  "kernelspec": {
   "display_name": "Python 3.10.5 64-bit",
   "language": "python",
   "name": "python3"
  },
  "language_info": {
   "codemirror_mode": {
    "name": "ipython",
    "version": 3
   },
   "file_extension": ".py",
   "mimetype": "text/x-python",
   "name": "python",
   "nbconvert_exporter": "python",
   "pygments_lexer": "ipython3",
   "version": "3.11.3"
  },
  "vscode": {
   "interpreter": {
    "hash": "a0a5145e6c304e2a9afaf5b930a2955b950bd4b81fe94f7c42930f43f42762eb"
   }
  }
 },
 "nbformat": 4,
 "nbformat_minor": 4
}
