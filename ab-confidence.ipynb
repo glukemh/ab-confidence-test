{
 "cells": [
  {
   "cell_type": "code",
   "execution_count": 19,
   "metadata": {},
   "outputs": [],
   "source": [
    "# c_cont is number of conversions in control sample\n",
    "# c_exp is number of conversions in experiment sample\n",
    "# n_cont is total number of users in control sample\n",
    "# n_exp is total number of users in experiment sample\n",
    "# p_cont is the conversion rate in the control sample (estimated probability of conversions)\n",
    "# p_exp is the conversion rate in the experiment sample (estimated probability of conversions)\n",
    "# p_pool is the estimated probability of conversions in the pooled sample\n",
    "# se_pool is the pooled standard error\n",
    "# d is the estimated difference of p_exp and p_cont\n",
    "# null hypothesis: d ~ Normal(0, se_pool^2) with mean of 0 and standard deviation of se_pool\n",
    "# z_score of 1.96 corresponds to 95% confidence threshold\n",
    "\n",
    "from math import pi, sqrt, exp"
   ]
  },
  {
   "cell_type": "code",
   "execution_count": 20,
   "metadata": {},
   "outputs": [],
   "source": [
    "normal = lambda mu, sd: lambda x: exp(-((x-mu)/sd)**2/2)/(sd*sqrt(2*pi))\n",
    "def confidence(pdf, d, mu=0):\n",
    "    n = 1000000\n",
    "    delta = abs(d - mu)/n\n",
    "    sum = 0\n",
    "    for i in range(1, n+1):\n",
    "        sum += pdf(mu+i*delta)\n",
    "    return 2*sum*delta"
   ]
  },
  {
   "cell_type": "code",
   "execution_count": 21,
   "metadata": {},
   "outputs": [],
   "source": [
    "c_cont = 58\n",
    "n_cont = 2816\n",
    "c_exp = 70\n",
    "n_exp = 2812\n",
    "z_score = 1.96"
   ]
  },
  {
   "cell_type": "code",
   "execution_count": 22,
   "metadata": {},
   "outputs": [
    {
     "data": {
      "text/plain": [
       "0.022743425728500355"
      ]
     },
     "execution_count": 22,
     "metadata": {},
     "output_type": "execute_result"
    }
   ],
   "source": [
    "p_pool = (c_cont + c_exp)/(n_cont + n_exp)\n",
    "p_pool"
   ]
  },
  {
   "cell_type": "code",
   "execution_count": 23,
   "metadata": {},
   "outputs": [
    {
     "data": {
      "text/plain": [
       "0.003974525628850235"
      ]
     },
     "execution_count": 23,
     "metadata": {},
     "output_type": "execute_result"
    }
   ],
   "source": [
    "se_pool = sqrt(p_pool*(1-p_pool)*(1/n_cont + 1/n_exp))\n",
    "se_pool # pooled standard error"
   ]
  },
  {
   "cell_type": "code",
   "execution_count": 24,
   "metadata": {},
   "outputs": [
    {
     "data": {
      "text/plain": [
       "[0.024893314366998577, 0.020596590909090908]"
      ]
     },
     "execution_count": 24,
     "metadata": {},
     "output_type": "execute_result"
    }
   ],
   "source": [
    "p_cont = c_cont/n_cont\n",
    "p_exp = c_exp/n_exp\n",
    "[p_exp, p_cont] # conversion rates"
   ]
  },
  {
   "cell_type": "code",
   "execution_count": 25,
   "metadata": {},
   "outputs": [
    {
     "data": {
      "text/plain": [
       "0.004296723457907669"
      ]
     },
     "execution_count": 25,
     "metadata": {},
     "output_type": "execute_result"
    }
   ],
   "source": [
    "d = p_exp - p_cont\n",
    "d # difference of conversion rates"
   ]
  },
  {
   "cell_type": "code",
   "execution_count": 26,
   "metadata": {},
   "outputs": [
    {
     "data": {
      "text/plain": [
       "False"
      ]
     },
     "execution_count": 26,
     "metadata": {},
     "output_type": "execute_result"
    }
   ],
   "source": [
    "confident = abs(d) > z_score * se_pool\n",
    "confident # Reject null hypothesis?"
   ]
  },
  {
   "cell_type": "code",
   "execution_count": 27,
   "metadata": {},
   "outputs": [
    {
     "data": {
      "text/plain": [
       "0.7203319337357937"
      ]
     },
     "execution_count": 27,
     "metadata": {},
     "output_type": "execute_result"
    }
   ],
   "source": [
    "pdf = normal(0, se_pool)\n",
    "confidence(pdf, d)"
   ]
  }
 ],
 "metadata": {
  "kernelspec": {
   "display_name": "Python 3",
   "language": "python",
   "name": "python3"
  },
  "language_info": {
   "codemirror_mode": {
    "name": "ipython",
    "version": 3
   },
   "file_extension": ".py",
   "mimetype": "text/x-python",
   "name": "python",
   "nbconvert_exporter": "python",
   "pygments_lexer": "ipython3",
   "version": "3.10.0"
  }
 },
 "nbformat": 4,
 "nbformat_minor": 4
}
