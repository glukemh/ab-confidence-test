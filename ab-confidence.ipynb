{
 "cells": [
  {
   "cell_type": "code",
   "execution_count": 36,
   "metadata": {},
   "outputs": [],
   "source": [
    "# reading: http://armsnet.info/journals/arms/Vol_3_No_1_June_2015/3.pdf#:~:text=The%20term%20%E2%80%9Cstatistical%20confidence%E2%80%9D%20has%20been%20defined%20clearly,samples%2C%20that%20an%20interval%20will%20capture%20a%20parameter.\n",
    "\n",
    "# c_cont is number of conversions in control sample\n",
    "# c_exp is number of conversions in experiment sample\n",
    "# n_cont is total number of users in control sample\n",
    "# n_exp is total number of users in experiment sample\n",
    "# p_cont is the conversion rate in the control sample (estimated probability of conversions)\n",
    "# p_exp is the conversion rate in the experiment sample (estimated probability of conversions)\n",
    "# p_pool is the estimated probability of conversions in the pooled sample\n",
    "# se_pool is the pooled standard error\n",
    "# d is the estimated difference of p_exp and p_cont\n",
    "# null hypothesis: d ~ Normal(0, se_pool^2) with mean of 0 and standard deviation of se_pool\n",
    "# z_score of 1.96 corresponds to 95% chance the true conversion rate will lie within the confidence interval\n",
    "# z_score of 1.65 corresponds to 90%\n",
    "# z_score of 2.575 corresponds to 99%\n",
    "\n",
    "# cumulative alpha = 1-(1-Alpha)^k where k is number of experiments (excluding control)\n",
    "\n",
    "from math import pi, sqrt, exp"
   ]
  },
  {
   "cell_type": "code",
   "execution_count": 37,
   "metadata": {},
   "outputs": [],
   "source": [
    "normal = lambda mu, sd: lambda x: exp(-((x-mu)/sd)**2/2)/(sd*sqrt(2*pi))\n",
    "def confidence(pdf, d, mu=0):\n",
    "    n = 1000000\n",
    "    delta = abs(d - mu)/n\n",
    "    sum = 0\n",
    "    for i in range(1, n+1):\n",
    "        sum += pdf(mu+i*delta)\n",
    "    return 2*sum*delta"
   ]
  },
  {
   "cell_type": "code",
   "execution_count": 55,
   "metadata": {},
   "outputs": [],
   "source": [
    "c_cont = 61\n",
    "n_cont = 746\n",
    "c_exp = 53\n",
    "n_exp = 674\n",
    "z_score = 2.575"
   ]
  },
  {
   "cell_type": "code",
   "execution_count": 56,
   "metadata": {},
   "outputs": [
    {
     "data": {
      "text/plain": [
       "0.08028169014084507"
      ]
     },
     "execution_count": 56,
     "metadata": {},
     "output_type": "execute_result"
    }
   ],
   "source": [
    "p_pool = (c_cont + c_exp)/(n_cont + n_exp)\n",
    "p_pool"
   ]
  },
  {
   "cell_type": "code",
   "execution_count": 57,
   "metadata": {},
   "outputs": [
    {
     "data": {
      "text/plain": [
       "0.01444044178090069"
      ]
     },
     "execution_count": 57,
     "metadata": {},
     "output_type": "execute_result"
    }
   ],
   "source": [
    "se_pool = sqrt(p_pool*(1-p_pool)*(1/n_cont + 1/n_exp))\n",
    "se_pool # pooled standard error"
   ]
  },
  {
   "cell_type": "code",
   "execution_count": 58,
   "metadata": {},
   "outputs": [
    {
     "data": {
      "text/plain": [
       "[0.07863501483679525, 0.08176943699731903]"
      ]
     },
     "execution_count": 58,
     "metadata": {},
     "output_type": "execute_result"
    }
   ],
   "source": [
    "p_cont = c_cont/n_cont\n",
    "p_exp = c_exp/n_exp\n",
    "[p_exp, p_cont] # conversion rates"
   ]
  },
  {
   "cell_type": "code",
   "execution_count": 59,
   "metadata": {},
   "outputs": [
    {
     "data": {
      "text/plain": [
       "-0.0031344221605237865"
      ]
     },
     "execution_count": 59,
     "metadata": {},
     "output_type": "execute_result"
    }
   ],
   "source": [
    "d = p_exp - p_cont\n",
    "d # difference of conversion rates"
   ]
  },
  {
   "cell_type": "code",
   "execution_count": 60,
   "metadata": {},
   "outputs": [
    {
     "data": {
      "text/plain": [
       "[(0.05193748236170655, 0.10533254731188395),\n",
       " (0.05593617815897668, 0.10760269583566139)]"
      ]
     },
     "execution_count": 60,
     "metadata": {},
     "output_type": "execute_result"
    }
   ],
   "source": [
    "se_exp = sqrt(p_exp*(1-p_exp)/(n_exp))\n",
    "se_cont = sqrt(p_cont*(1-p_cont)/(n_cont))\n",
    "conf_int_exp = (p_exp - z_score * se_exp, p_exp + z_score * se_exp)\n",
    "conf_int_cont = (p_cont - z_score * se_cont, p_cont + z_score * se_cont)\n",
    "[conf_int_exp, conf_int_cont] # confidence intervals"
   ]
  },
  {
   "cell_type": "code",
   "execution_count": 62,
   "metadata": {},
   "outputs": [
    {
     "data": {
      "text/plain": [
       "False"
      ]
     },
     "execution_count": 62,
     "metadata": {},
     "output_type": "execute_result"
    }
   ],
   "source": [
    "confident = abs(d) > z_score * se_pool\n",
    "confident # Reject null hypothesis?\n",
    "confident"
   ]
  },
  {
   "cell_type": "code",
   "execution_count": 53,
   "metadata": {},
   "outputs": [
    {
     "data": {
      "text/plain": [
       "0.1718373253433124"
      ]
     },
     "execution_count": 53,
     "metadata": {},
     "output_type": "execute_result"
    }
   ],
   "source": [
    "pdf = normal(0, se_pool)\n",
    "confidence(pdf, d)"
   ]
  },
  {
   "cell_type": "code",
   "execution_count": null,
   "metadata": {},
   "outputs": [],
   "source": []
  }
 ],
 "metadata": {
  "kernelspec": {
   "display_name": "Python 3",
   "language": "python",
   "name": "python3"
  },
  "language_info": {
   "codemirror_mode": {
    "name": "ipython",
    "version": 3
   },
   "file_extension": ".py",
   "mimetype": "text/x-python",
   "name": "python",
   "nbconvert_exporter": "python",
   "pygments_lexer": "ipython3",
   "version": "3.10.2"
  }
 },
 "nbformat": 4,
 "nbformat_minor": 4
}
